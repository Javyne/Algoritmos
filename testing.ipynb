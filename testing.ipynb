{
 "cells": [
  {
   "cell_type": "code",
   "execution_count": 6,
   "metadata": {},
   "outputs": [],
   "source": [
    "import random\n",
    "import timeit\n",
    "import matplotlib.pyplot as plt\n",
    "import numpy as np\n",
    "import scipy as sp\n",
    "import scipy.special\n",
    "import more_itertools as mit"
   ]
  },
  {
   "cell_type": "code",
   "execution_count": 7,
   "metadata": {},
   "outputs": [],
   "source": [
    "def busqueda_secuencial(lista, valor):\n",
    "    for i in lista:\n",
    "        if i == valor:\n",
    "            return \"Valor encontrado \" + str(valor) \n",
    "        else:\n",
    "            return \"Valor no encontrado \" + str(valor) \n",
    "\n",
    "\n",
    "def busqueda_binaria(lista, valor):\n",
    "    \n",
    "    mid = len(lista)//2\n",
    "\n",
    "    if len(lista) < 3:\n",
    "        return busqueda_secuencial(lista, valor)\n",
    "    elif valor == lista[mid]:\n",
    "        return \"Valor encontrado \" + str(valor) \n",
    "    elif valor < lista[mid]:\n",
    "        return busqueda_binaria(lista[:mid],valor)\n",
    "    else:\n",
    "        return busqueda_binaria(lista[mid:],valor)\n",
    "\n",
    "\n",
    "def busqueda_ternaria(lista, valor):\n",
    "    tercio1 = len(lista)//3\n",
    "    tercio2 = 2*tercio1\n",
    "\n",
    "    if len(lista) < 3:\n",
    "        return busqueda_secuencial(lista, valor)\n",
    "    elif valor == lista[tercio1] or valor == lista[tercio2]:\n",
    "        return \"Valor encontrado \" + str(lista[tercio1])\n",
    "    elif valor < lista[tercio1]:\n",
    "        return busqueda_ternaria(lista[:tercio1],valor)\n",
    "    elif valor < lista[tercio2]:\n",
    "        return busqueda_ternaria(lista[tercio1:tercio2],valor)\n",
    "    else:\n",
    "        return busqueda_ternaria(lista[tercio2:],valor)"
   ]
  },
  {
   "cell_type": "code",
   "execution_count": 8,
   "metadata": {},
   "outputs": [],
   "source": [
    "n_min = 10\n",
    "n_max = 1000\n",
    "st = 10\n",
    "iteraciones = 10 # iteraciones del benchmark\n",
    "\n",
    "t_bin = list()\n",
    "for n in range(n_min, n_max, st):\n",
    "    suma = 0\n",
    "    for i in range(1, iteraciones):\n",
    "        v = mit.random_combination(range(1, 10000), n)\n",
    "        suma += timeit.timeit(lambda: busqueda_binaria(v,5000), number = 1)\n",
    "    promedio = suma / iteraciones\n",
    "    t_bin.append(promedio)\n",
    "    \n"
   ]
  },
  {
   "cell_type": "code",
   "execution_count": 10,
   "metadata": {},
   "outputs": [
    {
     "data": {
      "text/plain": [
       "Text(0, 0.5, 'costo')"
      ]
     },
     "execution_count": 10,
     "metadata": {},
     "output_type": "execute_result"
    },
    {
     "data": {
      "image/png": "[encoded data removed]",
      "text/plain": [
       "<Figure size 432x288 with 1 Axes>"
      ]
     },
     "metadata": {
      "needs_background": "light"
     },
     "output_type": "display_data"
    }
   ],
   "source": [
    "eje_x = list(range(n_min, n_max, st))\n",
    "plt.plot(eje_x, t_bin, label = 'bin')\n",
    "plt.xlabel('n')\n",
    "plt.ylabel('costo')\n"
   ]
  },
  {
   "cell_type": "code",
   "execution_count": null,
   "metadata": {},
   "outputs": [],
   "source": []
  }
 ],
 "metadata": {
  "kernelspec": {
   "display_name": "Python 3",
   "language": "python",
   "name": "python3"
  },
  "language_info": {
   "codemirror_mode": {
    "name": "ipython",
    "version": 3
   },
   "file_extension": ".py",
   "mimetype": "text/x-python",
   "name": "python",
   "nbconvert_exporter": "python",
   "pygments_lexer": "ipython3",
   "version": "3.8.3"
  }
 },
 "nbformat": 4,
 "nbformat_minor": 4
}
